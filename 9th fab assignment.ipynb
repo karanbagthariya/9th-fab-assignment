{
 "cells": [
  {
   "cell_type": "markdown",
   "id": "bce0706c-2141-42f9-a30b-17a5598fd6e1",
   "metadata": {},
   "source": [
    "Q1, Create a vehicle class with an init method having instance variables as name_of_vehicle, max_speed\n",
    "and average_of_vehicle."
   ]
  },
  {
   "cell_type": "code",
   "execution_count": 6,
   "id": "8ac314b9-a22b-41e5-a61c-8f30e3de20cd",
   "metadata": {},
   "outputs": [],
   "source": [
    "class vehicle:\n",
    "    \n",
    "    def __init__(self,name_of_vehicle,max_speed,average_of_vehicle):\n",
    "        self.__name_of_vehicle=name_of_vehicle\n",
    "        self.__max_speed=max_speed\n",
    "        self.__average_of_vehicle=average_of_vehicle\n",
    "        \n",
    "    def seating_capacity(self,capacity):\n",
    "        self.__capacity=capacity\n",
    "        return(self.__name_of_vehicle,self.__capacity)\n",
    "\n",
    "c=vehicle('car',200,9)\n",
    "        \n",
    "        "
   ]
  },
  {
   "cell_type": "markdown",
   "id": "f8759db2-83b9-4c31-a402-3d997bb84bde",
   "metadata": {},
   "source": [
    "Q2. Create a child class car from the vehicle class created in Que 1, which will inherit the vehicle class.\n",
    "Create a method named seating_capacity which takes capacity as an argument and returns the name of\n",
    "the vehicle and its seating capacity."
   ]
  },
  {
   "cell_type": "code",
   "execution_count": 7,
   "id": "60410313-d0ff-4cdf-9929-2475766cf5a9",
   "metadata": {},
   "outputs": [
    {
     "data": {
      "text/plain": [
       "('car', 5)"
      ]
     },
     "execution_count": 7,
     "metadata": {},
     "output_type": "execute_result"
    }
   ],
   "source": [
    "class car(vehicle):\n",
    "    pass\n",
    "\n",
    "c.seating_capacity(5)"
   ]
  },
  {
   "cell_type": "markdown",
   "id": "0552fa9e-21ca-4b12-8c24-9eb0c06177a1",
   "metadata": {},
   "source": [
    "Q3. What is multiple inheritance? Write a python code to demonstrate multiple inheritance."
   ]
  },
  {
   "cell_type": "markdown",
   "id": "6c01ac03-dc35-4a30-a0c0-6cba5d3f602b",
   "metadata": {},
   "source": [
    "ans.3 If a child class inherits from more than one class, i.e. this child class is derived from multiple classes, we call it multiple inheritance in Python."
   ]
  },
  {
   "cell_type": "code",
   "execution_count": 22,
   "id": "f99a849c-6b88-496d-b2a5-7bb1884e68a7",
   "metadata": {},
   "outputs": [],
   "source": [
    "class class1:\n",
    "    def test_class1(self):\n",
    "        return('this is my class 1')"
   ]
  },
  {
   "cell_type": "code",
   "execution_count": 23,
   "id": "4f0a8195-2e03-4c99-97b9-475afa380c1e",
   "metadata": {},
   "outputs": [],
   "source": [
    "class class2(class1):\n",
    "    def test_class2(self):\n",
    "        return('this is my class 2')"
   ]
  },
  {
   "cell_type": "code",
   "execution_count": 24,
   "id": "919bec61-9ad9-4c36-9a6b-9342469988a7",
   "metadata": {},
   "outputs": [],
   "source": [
    "class class3(class2):\n",
    "    pass"
   ]
  },
  {
   "cell_type": "code",
   "execution_count": 25,
   "id": "62e8f1cb-b491-4b7e-bc43-eb849905b56d",
   "metadata": {},
   "outputs": [],
   "source": [
    "class_obj=class3()"
   ]
  },
  {
   "cell_type": "code",
   "execution_count": 26,
   "id": "a68f05ae-2787-429e-9e04-2ecba8952f90",
   "metadata": {},
   "outputs": [
    {
     "data": {
      "text/plain": [
       "'this is my class 1'"
      ]
     },
     "execution_count": 26,
     "metadata": {},
     "output_type": "execute_result"
    }
   ],
   "source": [
    "class_obj.test_class1()"
   ]
  },
  {
   "cell_type": "code",
   "execution_count": 27,
   "id": "a5f552bc-3719-4f5d-a923-9ba68247ccec",
   "metadata": {},
   "outputs": [
    {
     "data": {
      "text/plain": [
       "'this is my class 2'"
      ]
     },
     "execution_count": 27,
     "metadata": {},
     "output_type": "execute_result"
    }
   ],
   "source": [
    "class_obj.test_class2()"
   ]
  },
  {
   "cell_type": "markdown",
   "id": "69ffdaf1-c955-4c28-a09a-4a69722a10dd",
   "metadata": {},
   "source": [
    "Q4. What are getter and setter in python? Create a class and create a getter and a setter method in this\n",
    "class."
   ]
  },
  {
   "cell_type": "markdown",
   "id": "8165f908-7f4e-457e-ba1e-67380d8a7794",
   "metadata": {},
   "source": [
    "Getter: A method that allows you to access an attribute in a given class. Setter: A method that allows you to set or mutate the value of an attribute in a class"
   ]
  },
  {
   "cell_type": "code",
   "execution_count": 5,
   "id": "ea04b613-6a3d-421b-95a6-7b313be64704",
   "metadata": {},
   "outputs": [],
   "source": [
    "class pwskills:\n",
    "    def __init__(self,course_price,course_name):\n",
    "        self.__course_price=course_price\n",
    "        self.__course_name=course_name\n",
    "        \n",
    "    @property\n",
    "    def course_price_acess(self):\n",
    "        return self.__course_price\n",
    "    \n",
    "    @course_price_acess.setter\n",
    "    def course_price_set(self,price):\n",
    "        if price<=3500:\n",
    "            pass\n",
    "        else:\n",
    "            self.__course_price=price"
   ]
  },
  {
   "cell_type": "markdown",
   "id": "e900af5a-c150-4490-bb7b-9568ffed6426",
   "metadata": {},
   "source": [
    "Q5.What is method overriding in python? Write a python code to demonstrate method overriding."
   ]
  },
  {
   "cell_type": "markdown",
   "id": "684ea25c-b985-4142-8bdf-1ab318466dfa",
   "metadata": {},
   "source": [
    "ans5. Method overriding in Python is when you have two methods with the same name that each perform different tasks. This is an important feature of inheritance in Python. In method overriding, the child class can change its functions that are defined by its ancestral classes."
   ]
  },
  {
   "cell_type": "code",
   "execution_count": 13,
   "id": "f063cfa4-c076-49a1-8222-31cc7cf8f09c",
   "metadata": {},
   "outputs": [
    {
     "name": "stdout",
     "output_type": "stream",
     "text": [
      "Inside Parent\n",
      "Inside Child\n"
     ]
    }
   ],
   "source": [
    "class Parent():\n",
    "      \n",
    "    def __init__(self):\n",
    "        self.value = \"Inside Parent\"\n",
    "          \n",
    "\n",
    "    def show(self):\n",
    "        print(self.value)\n",
    "          \n",
    "\n",
    "class Child(Parent):\n",
    "      \n",
    "    def __init__(self):\n",
    "        self.value = \"Inside Child\"\n",
    "          \n",
    "    def show(self):\n",
    "        print(self.value)\n",
    "          \n",
    "obj1 = Parent()\n",
    "obj2 = Child()\n",
    "  \n",
    "obj1.show()\n",
    "obj2.show()"
   ]
  },
  {
   "cell_type": "code",
   "execution_count": null,
   "id": "c6ac141a-ca0d-4cc6-888c-e6e2fcf6d5f2",
   "metadata": {},
   "outputs": [],
   "source": []
  }
 ],
 "metadata": {
  "kernelspec": {
   "display_name": "Python 3 (ipykernel)",
   "language": "python",
   "name": "python3"
  },
  "language_info": {
   "codemirror_mode": {
    "name": "ipython",
    "version": 3
   },
   "file_extension": ".py",
   "mimetype": "text/x-python",
   "name": "python",
   "nbconvert_exporter": "python",
   "pygments_lexer": "ipython3",
   "version": "3.10.8"
  }
 },
 "nbformat": 4,
 "nbformat_minor": 5
}
